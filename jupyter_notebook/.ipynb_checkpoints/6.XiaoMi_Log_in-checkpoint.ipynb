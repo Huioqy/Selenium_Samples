{
 "cells": [
  {
   "cell_type": "markdown",
   "metadata": {},
   "source": [
    "# Google Search with Chrome\n",
    "\n",
    "Ubuntu 16.04 desktop\n",
    "\n",
    "Python 3.5.2 |Anaconda 4.2.0 (64-bit)\n",
    "\n",
    "Selenium 3.141.0\n",
    "\n",
    "1.Open Chrome and go to 小米商城 https://www.mi.com/index.html\n",
    "\n",
    "2.Search \"OneConnect\"\n",
    "\n",
    "3.Iteratively access to the search results "
   ]
  },
  {
   "cell_type": "code",
   "execution_count": 1,
   "metadata": {
    "ExecuteTime": {
     "end_time": "2019-02-11T10:50:54.287308Z",
     "start_time": "2019-02-11T10:50:54.245592Z"
    },
    "collapsed": true
   },
   "outputs": [],
   "source": [
    "from selenium import webdriver\n",
    "from selenium.webdriver.common.keys import Keys\n",
    "from selenium.webdriver.common.by import By\n",
    "from selenium.webdriver.support.select import Select\n",
    "from selenium.webdriver.support.ui import WebDriverWait\n",
    "from selenium.webdriver.support import expected_conditions as EC\n",
    "import time\n",
    "import os"
   ]
  },
  {
   "cell_type": "code",
   "execution_count": 2,
   "metadata": {
    "ExecuteTime": {
     "end_time": "2019-02-11T10:50:54.383699Z",
     "start_time": "2019-02-11T10:50:54.288791Z"
    },
    "collapsed": true
   },
   "outputs": [],
   "source": [
    "baseUrl = \"https://www.google.com\""
   ]
  },
  {
   "cell_type": "code",
   "execution_count": 3,
   "metadata": {
    "ExecuteTime": {
     "end_time": "2019-02-11T10:50:55.776139Z",
     "start_time": "2019-02-11T10:50:54.385231Z"
    },
    "collapsed": true
   },
   "outputs": [],
   "source": [
    "driver = webdriver.Chrome(executable_path='./chromedriver_72')"
   ]
  },
  {
   "cell_type": "code",
   "execution_count": 4,
   "metadata": {
    "ExecuteTime": {
     "end_time": "2019-02-11T10:50:56.243968Z",
     "start_time": "2019-02-11T10:50:55.777336Z"
    },
    "collapsed": true
   },
   "outputs": [],
   "source": [
    "# Open the Url\n",
    "driver.get(baseUrl)\n",
    "driver.implicitly_wait(2)"
   ]
  },
  {
   "cell_type": "code",
   "execution_count": 5,
   "metadata": {
    "ExecuteTime": {
     "end_time": "2019-02-11T10:50:57.405458Z",
     "start_time": "2019-02-11T10:50:56.245428Z"
    },
    "collapsed": false
   },
   "outputs": [],
   "source": [
    "# enter text into the textarea\n",
    "input_textbox = driver.find_element(By.XPATH, \"//input[@name='q']\")\n",
    "input_textbox.send_keys(\"OneConnect\")\n",
    "\n",
    "# hit return after you enter search text\n",
    "input_textbox.submit()\n",
    "#input_textbox.send_keys(Keys.RETURN) "
   ]
  },
  {
   "cell_type": "code",
   "execution_count": null,
   "metadata": {
    "ExecuteTime": {
     "start_time": "2019-02-11T02:50:54.252Z"
    },
    "collapsed": false
   },
   "outputs": [
    {
     "name": "stdout",
     "output_type": "stream",
     "text": [
      "Size of the list: 10\n",
      "OneConnect - Technology Makes Finance Easier\n",
      "www.oneconnectft.com.sg/\n",
      "OneConnect Financial Technology (Singapore) | LinkedIn\n",
      "https://sg.linkedin.com/company/oneconnectft-sg\n",
      "OneConnect Smart Technology | LinkedIn\n",
      "https://sg.linkedin.com/company/oneconnect-technology\n",
      "Ping An eyes $2bn listing of OneConnect fintech unit | Financial Times\n",
      "https://www.ft.com/content/28f7fd06-332d-11e8-ac48-10c6fdc22f03\n",
      "Ping An Group Brings Their SME Tech Solution, OneConnect to ...\n",
      "fintechnews.sg/26375/ai/ping-an-singapore-oneconnect-sme-blockchain-ai/\n",
      "OneConnect | Crunchbase\n",
      "https://www.crunchbase.com/organization/oneconnect\n",
      "OneConnect Financial Technology (Singapore) Co. Pte Ltd – SG ...\n",
      "https://directory.singaporefintech.org/.../oneconnect-financial-technology-singapore-c...\n",
      "OneConnect Shares Insights On Technology Trends and Applications ...\n",
      "https://www.prnewswire.com/.../oneconnect-shares-insights-on-technology-trends-and...\n",
      "TRAILBLAZING TECH: Ping An expands regional footprint with a ...\n",
      "https://www.asiaone.com/.../trailblazing-tech-ping-an-expands-regional-footprint-with...\n",
      "Ping An Starts Work on Up to $3 Billion OneConnect IPO - Bloomberg\n",
      "https://www.bloomberg.com/.../ping-an-is-said-to-start-work-on-up-to-3-billion-onec...\n"
     ]
    }
   ],
   "source": [
    "# list of search result\n",
    "search_list = driver.find_elements(By.XPATH, \"//h3/../../a\")\n",
    "search_list_size = len(search_list)\n",
    "print(\"Size of the list: \" + str(search_list_size))\n",
    "\n",
    "for link in search_list:\n",
    "    print(link.text)"
   ]
  },
  {
   "cell_type": "code",
   "execution_count": null,
   "metadata": {
    "ExecuteTime": {
     "start_time": "2019-02-11T02:50:54.254Z"
    },
    "collapsed": false,
    "scrolled": false
   },
   "outputs": [
    {
     "name": "stdout",
     "output_type": "stream",
     "text": [
      "No.1 website!\n",
      "OneConnect - Technology Makes Finance Easier\n",
      "www.oneconnectft.com.sg/\n",
      "No.1 website finished!\n",
      "No.2 website!\n",
      "OneConnect Financial Technology (Singapore) | LinkedIn\n",
      "https://sg.linkedin.com/company/oneconnectft-sg\n",
      "No.2 website finished!\n",
      "No.3 website!\n",
      "OneConnect Smart Technology | LinkedIn\n",
      "https://sg.linkedin.com/company/oneconnect-technology\n",
      "No.3 website finished!\n",
      "No.4 website!\n",
      "Ping An eyes $2bn listing of OneConnect fintech unit | Financial Times\n",
      "https://www.ft.com/content/28f7fd06-332d-11e8-ac48-10c6fdc22f03\n",
      "No.4 website finished!\n",
      "No.5 website!\n",
      "Ping An Group Brings Their SME Tech Solution, OneConnect to ...\n",
      "fintechnews.sg/26375/ai/ping-an-singapore-oneconnect-sme-blockchain-ai/\n"
     ]
    }
   ],
   "source": [
    "#the path for the element will change when the website is refreshed\n",
    "#so the address for the elements should be updated \n",
    "for i in range(search_list_size):\n",
    "    link = driver.find_elements(By.XPATH, \"//h3/../../a\")[i]\n",
    "    print(\"No.\" + str(i+1) + \" website!\")\n",
    "    print(link.text)\n",
    "    time.sleep(1)\n",
    "    link.click()\n",
    "    driver.back()\n",
    "    print(\"No.\"+ str(i+1) + \" website finished!\")"
   ]
  },
  {
   "cell_type": "code",
   "execution_count": null,
   "metadata": {
    "ExecuteTime": {
     "start_time": "2019-02-11T02:50:54.255Z"
    },
    "collapsed": true
   },
   "outputs": [],
   "source": [
    "# Browser Close / Quit\n",
    "# driver.close()\n",
    "driver.quit()"
   ]
  },
  {
   "cell_type": "code",
   "execution_count": null,
   "metadata": {
    "collapsed": true
   },
   "outputs": [],
   "source": []
  }
 ],
 "metadata": {
  "anaconda-cloud": {},
  "kernelspec": {
   "display_name": "Python [conda env:anaconda3]",
   "language": "python",
   "name": "conda-env-anaconda3-py"
  },
  "language_info": {
   "codemirror_mode": {
    "name": "ipython",
    "version": 3
   },
   "file_extension": ".py",
   "mimetype": "text/x-python",
   "name": "python",
   "nbconvert_exporter": "python",
   "pygments_lexer": "ipython3",
   "version": "3.5.2"
  },
  "varInspector": {
   "cols": {
    "lenName": 16,
    "lenType": 16,
    "lenVar": 40
   },
   "kernels_config": {
    "python": {
     "delete_cmd_postfix": "",
     "delete_cmd_prefix": "del ",
     "library": "var_list.py",
     "varRefreshCmd": "print(var_dic_list())"
    },
    "r": {
     "delete_cmd_postfix": ") ",
     "delete_cmd_prefix": "rm(",
     "library": "var_list.r",
     "varRefreshCmd": "cat(var_dic_list()) "
    }
   },
   "types_to_exclude": [
    "module",
    "function",
    "builtin_function_or_method",
    "instance",
    "_Feature"
   ],
   "window_display": false
  }
 },
 "nbformat": 4,
 "nbformat_minor": 1
}
