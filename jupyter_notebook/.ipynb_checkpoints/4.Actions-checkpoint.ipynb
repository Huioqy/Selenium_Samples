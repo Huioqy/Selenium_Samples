{
 "cells": [
  {
   "cell_type": "code",
   "execution_count": 1,
   "metadata": {
    "ExecuteTime": {
     "end_time": "2019-02-08T17:06:25.123232Z",
     "start_time": "2019-02-08T17:06:25.049995Z"
    },
    "collapsed": true
   },
   "outputs": [],
   "source": [
    "from selenium import webdriver\n",
    "from selenium.webdriver.common.keys import Keys\n",
    "from selenium.webdriver.common.by import By\n",
    "from selenium.webdriver.support.select import Select\n",
    "from selenium.webdriver import ActionChains\n",
    "import time\n",
    "import os"
   ]
  },
  {
   "cell_type": "code",
   "execution_count": 2,
   "metadata": {
    "ExecuteTime": {
     "end_time": "2019-02-08T17:06:25.797440Z",
     "start_time": "2019-02-08T17:06:25.795441Z"
    },
    "collapsed": true
   },
   "outputs": [],
   "source": [
    "baseUrl = \"https://jqueryui.com/droppable/\""
   ]
  },
  {
   "cell_type": "code",
   "execution_count": 3,
   "metadata": {
    "ExecuteTime": {
     "end_time": "2019-02-08T17:06:27.877686Z",
     "start_time": "2019-02-08T17:06:26.313273Z"
    },
    "collapsed": true
   },
   "outputs": [],
   "source": [
    "driver = webdriver.Firefox()"
   ]
  },
  {
   "cell_type": "code",
   "execution_count": 4,
   "metadata": {
    "ExecuteTime": {
     "end_time": "2019-02-08T17:06:38.468165Z",
     "start_time": "2019-02-08T17:06:34.029656Z"
    },
    "collapsed": true
   },
   "outputs": [],
   "source": [
    "# Open the Url\n",
    "driver.get(baseUrl)\n",
    "driver.implicitly_wait(10)"
   ]
  },
  {
   "cell_type": "code",
   "execution_count": 5,
   "metadata": {
    "ExecuteTime": {
     "end_time": "2019-02-08T17:06:50.716204Z",
     "start_time": "2019-02-08T17:06:40.705693Z"
    },
    "collapsed": false
   },
   "outputs": [],
   "source": [
    "fromElement = driver.find_elements(\n",
    "    By.XPATH, \"//div[@id='draggable' and @style='position: relative;']\")"
   ]
  },
  {
   "cell_type": "code",
   "execution_count": 6,
   "metadata": {
    "ExecuteTime": {
     "end_time": "2019-02-08T17:07:23.750277Z",
     "start_time": "2019-02-08T17:07:13.742510Z"
    },
    "collapsed": false
   },
   "outputs": [],
   "source": [
    "toElement = driver.find_elements(\n",
    "    By.XPATH, \"//div[@id='droppable' and @class='ui-widget-header ui-droppable']\")"
   ]
  },
  {
   "cell_type": "code",
   "execution_count": 8,
   "metadata": {
    "ExecuteTime": {
     "end_time": "2019-02-08T17:07:51.159279Z",
     "start_time": "2019-02-08T17:07:51.087136Z"
    },
    "collapsed": false
   },
   "outputs": [
    {
     "ename": "NameError",
     "evalue": "name 'ActionChains' is not defined",
     "output_type": "error",
     "traceback": [
      "\u001b[0;31m---------------------------------------------------------------------------\u001b[0m",
      "\u001b[0;31mNameError\u001b[0m                                 Traceback (most recent call last)",
      "\u001b[0;32m<ipython-input-8-a8c92d8409a6>\u001b[0m in \u001b[0;36m<module>\u001b[0;34m()\u001b[0m\n\u001b[0;32m----> 1\u001b[0;31m \u001b[0mactions\u001b[0m \u001b[0;34m=\u001b[0m \u001b[0mActionChains\u001b[0m\u001b[0;34m(\u001b[0m\u001b[0mdriver\u001b[0m\u001b[0;34m)\u001b[0m\u001b[0;34m\u001b[0m\u001b[0m\n\u001b[0m",
      "\u001b[0;31mNameError\u001b[0m: name 'ActionChains' is not defined"
     ]
    }
   ],
   "source": [
    "actions = ActionChains(driver)"
   ]
  },
  {
   "cell_type": "code",
   "execution_count": 7,
   "metadata": {
    "ExecuteTime": {
     "end_time": "2019-02-08T17:07:26.098823Z",
     "start_time": "2019-02-08T17:07:26.095187Z"
    },
    "collapsed": false
   },
   "outputs": [
    {
     "name": "stdout",
     "output_type": "stream",
     "text": [
      "Drag And Drop failed on element\n"
     ]
    }
   ],
   "source": [
    "try:\n",
    "    actions = ActionChains(driver)\n",
    "    actions.drag_and_drop(fromElement, toElement).perform()\n",
    "    # actions.click_and_hold(fromElement).move_to_element(toElement).release().perform()\n",
    "    print(\"Drag And Drop Element Successful\")\n",
    "    time.sleep(2)\n",
    "except:\n",
    "    print(\"Drag And Drop failed on element\")"
   ]
  },
  {
   "cell_type": "code",
   "execution_count": 8,
   "metadata": {
    "ExecuteTime": {
     "end_time": "2019-02-08T14:38:03.912338Z",
     "start_time": "2019-02-08T14:38:03.899003Z"
    },
    "collapsed": false
   },
   "outputs": [
    {
     "name": "stdout",
     "output_type": "stream",
     "text": [
      "We found an element by XPATH\n",
      "We found an element by CSS\n"
     ]
    }
   ],
   "source": [
    "#Find Element by xpath\n",
    "elementByXpath = driver.find_element_by_xpath(\"//input[@id='name']\")\n",
    "if elementByXpath is not None:\n",
    "    print(\"We found an element by XPATH\")\n",
    "\n",
    "#Find Element by css\n",
    "elementByCss = driver.find_element_by_css_selector(\"#displayed-text\")\n",
    "if elementByCss is not None:\n",
    "    print(\"We found an element by CSS\")"
   ]
  },
  {
   "cell_type": "code",
   "execution_count": 9,
   "metadata": {
    "ExecuteTime": {
     "end_time": "2019-02-08T14:38:05.391526Z",
     "start_time": "2019-02-08T14:38:05.362796Z"
    },
    "collapsed": false
   },
   "outputs": [
    {
     "name": "stdout",
     "output_type": "stream",
     "text": [
      "We found an element by Link Text\n",
      "We found an element by Partial Link Text\n"
     ]
    }
   ],
   "source": [
    "#Find Element by link_text\n",
    "elementByLinkText = driver.find_element_by_link_text(\"Login\")\n",
    "if elementByLinkText is not None:\n",
    "    print(\"We found an element by Link Text\")\n",
    "\n",
    "#Find Element by partial_link_text\n",
    "elementByPartialLinkText = driver.find_element_by_partial_link_text(\"Pract\")\n",
    "if elementByPartialLinkText is not None:\n",
    "    print(\"We found an element by Partial Link Text\")"
   ]
  },
  {
   "cell_type": "code",
   "execution_count": 10,
   "metadata": {
    "ExecuteTime": {
     "end_time": "2019-02-08T14:38:06.553922Z",
     "start_time": "2019-02-08T14:38:06.482429Z"
    },
    "collapsed": false
   },
   "outputs": [
    {
     "name": "stdout",
     "output_type": "stream",
     "text": [
      "We found an element by Class Name\n",
      "We found an element by Tag Name and the text on element is: Practice Page\n"
     ]
    }
   ],
   "source": [
    "#Find Element by class_name\n",
    "elementByClassName = driver.find_element_by_class_name(\"displayed-class\")\n",
    "elementByClassName.send_keys(\"Testing The Element\")\n",
    "if elementByClassName is not None:\n",
    "    print(\"We found an element by Class Name\")\n",
    "\n",
    "#Find Element by tag_name\n",
    "elementByTagName = driver.find_element_by_tag_name(\"h1\")\n",
    "text = elementByTagName.text\n",
    "if elementByTagName is not None:\n",
    "    print(\"We found an element by Tag Name and the text on element is: \" + text)"
   ]
  },
  {
   "cell_type": "code",
   "execution_count": 11,
   "metadata": {
    "ExecuteTime": {
     "end_time": "2019-02-08T14:38:22.219839Z",
     "start_time": "2019-02-08T14:38:22.204477Z"
    },
    "collapsed": false
   },
   "outputs": [
    {
     "name": "stdout",
     "output_type": "stream",
     "text": [
      "ClassName -> Size of the list is: 2\n",
      "TagName -> Size of the list is: 9\n"
     ]
    }
   ],
   "source": [
    "# List Of Elements\n",
    "elementListByClassName = driver.find_elements_by_class_name(\"inputs\")\n",
    "length1 = len(elementListByClassName)\n",
    "\n",
    "if elementListByClassName is not None:\n",
    "    print(\"ClassName -> Size of the list is: \" + str(length1))\n",
    "\n",
    "elementListByTagName = driver.find_elements(By.TAG_NAME, \"td\")\n",
    "length2 = len(elementListByTagName)\n",
    "\n",
    "if elementListByTagName is not None:\n",
    "    print(\"TagName -> Size of the list is: \" + str(length2))"
   ]
  },
  {
   "cell_type": "code",
   "execution_count": 12,
   "metadata": {
    "ExecuteTime": {
     "end_time": "2019-02-08T14:38:31.083660Z",
     "start_time": "2019-02-08T14:38:30.699851Z"
    },
    "collapsed": true
   },
   "outputs": [],
   "source": [
    "# Browser Close / Quit\n",
    "# driver.close()\n",
    "driver.quit()"
   ]
  },
  {
   "cell_type": "code",
   "execution_count": null,
   "metadata": {
    "collapsed": true
   },
   "outputs": [],
   "source": []
  }
 ],
 "metadata": {
  "anaconda-cloud": {},
  "kernelspec": {
   "display_name": "Python [conda env:anaconda3]",
   "language": "python",
   "name": "conda-env-anaconda3-py"
  },
  "language_info": {
   "codemirror_mode": {
    "name": "ipython",
    "version": 3
   },
   "file_extension": ".py",
   "mimetype": "text/x-python",
   "name": "python",
   "nbconvert_exporter": "python",
   "pygments_lexer": "ipython3",
   "version": "3.5.2"
  },
  "varInspector": {
   "cols": {
    "lenName": 16,
    "lenType": 16,
    "lenVar": 40
   },
   "kernels_config": {
    "python": {
     "delete_cmd_postfix": "",
     "delete_cmd_prefix": "del ",
     "library": "var_list.py",
     "varRefreshCmd": "print(var_dic_list())"
    },
    "r": {
     "delete_cmd_postfix": ") ",
     "delete_cmd_prefix": "rm(",
     "library": "var_list.r",
     "varRefreshCmd": "cat(var_dic_list()) "
    }
   },
   "types_to_exclude": [
    "module",
    "function",
    "builtin_function_or_method",
    "instance",
    "_Feature"
   ],
   "window_display": false
  }
 },
 "nbformat": 4,
 "nbformat_minor": 1
}
