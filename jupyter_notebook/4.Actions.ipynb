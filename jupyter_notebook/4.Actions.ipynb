{
 "cells": [
  {
   "cell_type": "code",
   "execution_count": 10,
   "metadata": {
    "ExecuteTime": {
     "end_time": "2019-02-08T17:16:49.714596Z",
     "start_time": "2019-02-08T17:16:49.711003Z"
    },
    "collapsed": true
   },
   "outputs": [],
   "source": [
    "from selenium import webdriver\n",
    "from selenium.webdriver.common.keys import Keys\n",
    "from selenium.webdriver.common.by import By\n",
    "from selenium.webdriver.support.select import Select\n",
    "from selenium.webdriver import ActionChains\n",
    "import time\n",
    "import os"
   ]
  },
  {
   "cell_type": "code",
   "execution_count": 11,
   "metadata": {
    "ExecuteTime": {
     "end_time": "2019-02-08T17:16:50.015044Z",
     "start_time": "2019-02-08T17:16:50.013051Z"
    },
    "collapsed": true
   },
   "outputs": [],
   "source": [
    "baseUrl = \"https://jqueryui.com/droppable/\""
   ]
  },
  {
   "cell_type": "code",
   "execution_count": 12,
   "metadata": {
    "ExecuteTime": {
     "end_time": "2019-02-08T17:16:51.845081Z",
     "start_time": "2019-02-08T17:16:50.369358Z"
    },
    "collapsed": true
   },
   "outputs": [],
   "source": [
    "driver = webdriver.Firefox()"
   ]
  },
  {
   "cell_type": "code",
   "execution_count": 13,
   "metadata": {
    "ExecuteTime": {
     "end_time": "2019-02-08T17:16:56.159849Z",
     "start_time": "2019-02-08T17:16:51.880485Z"
    },
    "collapsed": true
   },
   "outputs": [],
   "source": [
    "# Open the Url\n",
    "driver.get(baseUrl)\n",
    "driver.implicitly_wait(10)"
   ]
  },
  {
   "cell_type": "code",
   "execution_count": 14,
   "metadata": {
    "ExecuteTime": {
     "end_time": "2019-02-08T17:19:25.433213Z",
     "start_time": "2019-02-08T17:19:15.423023Z"
    },
    "collapsed": false
   },
   "outputs": [],
   "source": [
    "# fromElement = driver.find_elements(\n",
    "#     By.XPATH, \"//div[@id='draggable' and @style='position: relative;']\")\n",
    "fromElement = driver.find_elements(\n",
    "    By.XPATH, \"//html[@lang='en'] //div[@id='draggable']\")"
   ]
  },
  {
   "cell_type": "code",
   "execution_count": 15,
   "metadata": {
    "ExecuteTime": {
     "end_time": "2019-02-08T17:20:03.573015Z",
     "start_time": "2019-02-08T17:19:53.563520Z"
    },
    "collapsed": false
   },
   "outputs": [],
   "source": [
    "# toElement = driver.find_elements(\n",
    "#     By.XPATH, \"//div[@id='droppable' and @class='ui-widget-header ui-droppable']\")\n",
    "fromElement = driver.find_elements(\n",
    "    By.XPATH, \"//html[@lang='en'] //div[@id='droppable']\")\n"
   ]
  },
  {
   "cell_type": "code",
   "execution_count": 17,
   "metadata": {
    "ExecuteTime": {
     "end_time": "2019-02-08T17:20:26.164226Z",
     "start_time": "2019-02-08T17:20:24.144773Z"
    },
    "collapsed": false
   },
   "outputs": [
    {
     "name": "stdout",
     "output_type": "stream",
     "text": [
      "Drag And Drop Element Successful\n"
     ]
    }
   ],
   "source": [
    "try:\n",
    "    actions = ActionChains(driver)\n",
    "    actions.drag_and_drop(fromElement, toElement).perform()\n",
    "#     actions.click_and_hold(fromElement).move_to_element(toElement).release().perform()\n",
    "    print(\"Drag And Drop Element Successful\")\n",
    "    time.sleep(2)\n",
    "except:\n",
    "    print(\"Drag And Drop failed on element\")"
   ]
  },
  {
   "cell_type": "code",
   "execution_count": 12,
   "metadata": {
    "ExecuteTime": {
     "end_time": "2019-02-08T14:38:31.083660Z",
     "start_time": "2019-02-08T14:38:30.699851Z"
    },
    "collapsed": true
   },
   "outputs": [],
   "source": [
    "# Browser Close / Quit\n",
    "# driver.close()\n",
    "driver.quit()"
   ]
  },
  {
   "cell_type": "code",
   "execution_count": null,
   "metadata": {
    "collapsed": true
   },
   "outputs": [],
   "source": []
  }
 ],
 "metadata": {
  "anaconda-cloud": {},
  "kernelspec": {
   "display_name": "Python [conda env:anaconda3]",
   "language": "python",
   "name": "conda-env-anaconda3-py"
  },
  "language_info": {
   "codemirror_mode": {
    "name": "ipython",
    "version": 3
   },
   "file_extension": ".py",
   "mimetype": "text/x-python",
   "name": "python",
   "nbconvert_exporter": "python",
   "pygments_lexer": "ipython3",
   "version": "3.5.2"
  },
  "varInspector": {
   "cols": {
    "lenName": 16,
    "lenType": 16,
    "lenVar": 40
   },
   "kernels_config": {
    "python": {
     "delete_cmd_postfix": "",
     "delete_cmd_prefix": "del ",
     "library": "var_list.py",
     "varRefreshCmd": "print(var_dic_list())"
    },
    "r": {
     "delete_cmd_postfix": ") ",
     "delete_cmd_prefix": "rm(",
     "library": "var_list.r",
     "varRefreshCmd": "cat(var_dic_list()) "
    }
   },
   "types_to_exclude": [
    "module",
    "function",
    "builtin_function_or_method",
    "instance",
    "_Feature"
   ],
   "window_display": false
  }
 },
 "nbformat": 4,
 "nbformat_minor": 1
}
