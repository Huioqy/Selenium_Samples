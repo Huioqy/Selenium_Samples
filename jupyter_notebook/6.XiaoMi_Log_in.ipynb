{
 "cells": [
  {
   "cell_type": "markdown",
   "metadata": {},
   "source": [
    "# Google Search with Chrome\n",
    "\n",
    "Ubuntu 16.04 desktop\n",
    "\n",
    "Python 3.5.2 |Anaconda 4.2.0 (64-bit)\n",
    "\n",
    "Selenium 3.141.0\n",
    "\n",
    "1.Open Chrome and go to 小米商城 https://www.mi.com/index.html\n",
    "\n",
    "2.Log in\n",
    "\n",
    "3.Iteratively access to the search results "
   ]
  },
  {
   "cell_type": "code",
   "execution_count": null,
   "metadata": {
    "ExecuteTime": {
     "end_time": "2019-02-11T11:17:09.302132Z",
     "start_time": "2019-02-11T11:17:09.223082Z"
    },
    "collapsed": true
   },
   "outputs": [],
   "source": [
    "from selenium import webdriver\n",
    "from selenium.webdriver.common.keys import Keys\n",
    "from selenium.webdriver.common.by import By\n",
    "from selenium.webdriver.support.select import Select\n",
    "from selenium.webdriver.support.ui import WebDriverWait\n",
    "from selenium.webdriver.support import expected_conditions as EC\n",
    "import time\n",
    "import os"
   ]
  },
  {
   "cell_type": "code",
   "execution_count": null,
   "metadata": {
    "ExecuteTime": {
     "end_time": "2019-02-11T11:17:09.387364Z",
     "start_time": "2019-02-11T11:17:09.303556Z"
    },
    "collapsed": true
   },
   "outputs": [],
   "source": [
    "baseUrl = \"https://www.mi.com/index.html\""
   ]
  },
  {
   "cell_type": "code",
   "execution_count": null,
   "metadata": {
    "ExecuteTime": {
     "end_time": "2019-02-11T11:17:09.815640Z",
     "start_time": "2019-02-11T11:17:09.388916Z"
    },
    "collapsed": true
   },
   "outputs": [],
   "source": [
    "# #Chrome\n",
    "# opt = webdriver.ChromeOptions()  # 创建chrome参数对象\n",
    "# opt.set_headless()  # 把chrome设置成无头模式，不论windows还是linux都可以，自动适配对应参数\n",
    "# driver = webdriver.Chrome(options=opt)#不制定options选项则是普通有头浏览器\n",
    "\n",
    "driver = webdriver.Chrome(executable_path='./chromedriver_72')"
   ]
  },
  {
   "cell_type": "code",
   "execution_count": null,
   "metadata": {
    "ExecuteTime": {
     "end_time": "2019-02-11T11:17:18.798312Z",
     "start_time": "2019-02-11T11:17:09.817144Z"
    },
    "collapsed": true
   },
   "outputs": [],
   "source": [
    "# Open the Url\n",
    "driver.get(baseUrl)\n",
    "driver.implicitly_wait(1)"
   ]
  },
  {
   "cell_type": "code",
   "execution_count": null,
   "metadata": {
    "ExecuteTime": {
     "end_time": "2019-02-11T11:24:35.297554Z",
     "start_time": "2019-02-11T11:24:35.231446Z"
    },
    "collapsed": false
   },
   "outputs": [],
   "source": [
    "# search for “登录” button\n",
    "login_button= driver.find_element(By.XPATH, \"//a[text()='登录']\")\n",
    "login_button.click()"
   ]
  },
  {
   "cell_type": "code",
   "execution_count": null,
   "metadata": {
    "ExecuteTime": {
     "end_time": "2019-02-11T11:25:30.285401Z",
     "start_time": "2019-02-11T11:25:27.047430Z"
    },
    "collapsed": false
   },
   "outputs": [],
   "source": [
    "# search for “同意” button\n",
    "agree_button = driver.find_element(By.XPATH, \"//button[text()='同意']\")\n",
    "agree_button.click()"
   ]
  },
  {
   "cell_type": "code",
   "execution_count": null,
   "metadata": {
    "ExecuteTime": {
     "end_time": "2019-02-11T11:35:52.727250Z",
     "start_time": "2019-02-11T11:35:52.626529Z"
    },
    "collapsed": false
   },
   "outputs": [],
   "source": [
    "# search for username input textbox\n",
    "user_inputbox = driver.find_element(\n",
    "    By.XPATH, \"//input[@class='item_account' and @name='user'and @id='username']\")\n",
    "user_inputbox.clear()\n",
    "user_inputbox.send_keys(\"oneconnet@pingan.com\") "
   ]
  },
  {
   "cell_type": "code",
   "execution_count": null,
   "metadata": {
    "ExecuteTime": {
     "end_time": "2019-02-11T11:37:33.511589Z",
     "start_time": "2019-02-11T11:37:33.402464Z"
    },
    "collapsed": false
   },
   "outputs": [],
   "source": [
    "# search for password input textbox\n",
    "pwd_inputbox = driver.find_element(\n",
    "    By.XPATH, \"//input[@class='item_account' and @name='password' and @id='pwd']\")\n",
    "pwd_inputbox.clear()\n",
    "pwd_inputbox.send_keys(\"oneconnet@pingan.com\") "
   ]
  },
  {
   "cell_type": "code",
   "execution_count": null,
   "metadata": {
    "ExecuteTime": {
     "end_time": "2019-02-11T11:39:59.351667Z",
     "start_time": "2019-02-11T11:39:59.291850Z"
    },
    "collapsed": true
   },
   "outputs": [],
   "source": [
    "# search for submit button\n",
    "submit_box = driver.find_element(\n",
    "    By.XPATH, \"//input[@id='login-button' and @type='submit']\")\n",
    "submit_box.click()"
   ]
  },
  {
   "cell_type": "code",
   "execution_count": null,
   "metadata": {
    "ExecuteTime": {
     "start_time": "2019-02-11T02:50:54.255Z"
    },
    "collapsed": true
   },
   "outputs": [],
   "source": [
    "# Browser Close / Quit\n",
    "# driver.close()\n",
    "driver.quit()"
   ]
  },
  {
   "cell_type": "code",
   "execution_count": null,
   "metadata": {
    "collapsed": true
   },
   "outputs": [],
   "source": []
  }
 ],
 "metadata": {
  "anaconda-cloud": {},
  "kernelspec": {
   "display_name": "Python [conda env:anaconda3]",
   "language": "python",
   "name": "conda-env-anaconda3-py"
  },
  "language_info": {
   "codemirror_mode": {
    "name": "ipython",
    "version": 3
   },
   "file_extension": ".py",
   "mimetype": "text/x-python",
   "name": "python",
   "nbconvert_exporter": "python",
   "pygments_lexer": "ipython3",
   "version": "3.5.2"
  },
  "varInspector": {
   "cols": {
    "lenName": 16,
    "lenType": 16,
    "lenVar": 40
   },
   "kernels_config": {
    "python": {
     "delete_cmd_postfix": "",
     "delete_cmd_prefix": "del ",
     "library": "var_list.py",
     "varRefreshCmd": "print(var_dic_list())"
    },
    "r": {
     "delete_cmd_postfix": ") ",
     "delete_cmd_prefix": "rm(",
     "library": "var_list.r",
     "varRefreshCmd": "cat(var_dic_list()) "
    }
   },
   "types_to_exclude": [
    "module",
    "function",
    "builtin_function_or_method",
    "instance",
    "_Feature"
   ],
   "window_display": false
  }
 },
 "nbformat": 4,
 "nbformat_minor": 1
}
