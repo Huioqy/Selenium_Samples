{
 "cells": [
  {
   "cell_type": "code",
   "execution_count": 1,
   "metadata": {
    "ExecuteTime": {
     "end_time": "2019-02-08T14:09:13.789720Z",
     "start_time": "2019-02-08T14:09:13.719121Z"
    },
    "collapsed": true
   },
   "outputs": [],
   "source": [
    "from selenium import webdriver\n",
    "from selenium.webdriver.common.keys import Keys\n",
    "from selenium.webdriver.common.by import By\n",
    "from selenium.webdriver.support.select import Select\n",
    "import time\n",
    "import os"
   ]
  },
  {
   "cell_type": "code",
   "execution_count": 2,
   "metadata": {
    "ExecuteTime": {
     "end_time": "2019-02-08T14:09:14.387094Z",
     "start_time": "2019-02-08T14:09:14.385046Z"
    },
    "collapsed": true
   },
   "outputs": [],
   "source": [
    "baseUrl = \"https://letskodeit.teachable.com/pages/practice\""
   ]
  },
  {
   "cell_type": "code",
   "execution_count": 3,
   "metadata": {
    "ExecuteTime": {
     "end_time": "2019-02-08T14:09:17.036127Z",
     "start_time": "2019-02-08T14:09:15.549419Z"
    },
    "collapsed": true
   },
   "outputs": [],
   "source": [
    "driver = webdriver.Firefox()"
   ]
  },
  {
   "cell_type": "code",
   "execution_count": 4,
   "metadata": {
    "ExecuteTime": {
     "end_time": "2019-02-08T14:09:34.375126Z",
     "start_time": "2019-02-08T14:09:27.527118Z"
    },
    "collapsed": true
   },
   "outputs": [],
   "source": [
    "# Open the Url\n",
    "driver.get(baseUrl)\n",
    "driver.implicitly_wait(10)"
   ]
  },
  {
   "cell_type": "code",
   "execution_count": 5,
   "metadata": {
    "ExecuteTime": {
     "end_time": "2019-02-08T14:09:41.919039Z",
     "start_time": "2019-02-08T14:09:35.225656Z"
    },
    "collapsed": false
   },
   "outputs": [
    {
     "name": "stdout",
     "output_type": "stream",
     "text": [
      "Size of the list: 3\n"
     ]
    }
   ],
   "source": [
    "#ElementsList Example\n",
    "#Radio Buttons\n",
    "#using XPATH\n",
    "#选项按钮\n",
    "\n",
    "radioButtonsList = driver.find_elements(\n",
    "    By.XPATH, \"//input[contains(@type,'radio') and contains(@name,'cars')]\")\n",
    "size = len(radioButtonsList)\n",
    "print(\"Size of the list: \" + str(size))\n",
    "\n",
    "# click radioButtons\n",
    "for radioButton in radioButtonsList:\n",
    "    isSelected = radioButton.is_selected()\n",
    "\n",
    "    if not isSelected:\n",
    "        radioButton.click()\n",
    "        time.sleep(2)"
   ]
  },
  {
   "cell_type": "code",
   "execution_count": 6,
   "metadata": {
    "ExecuteTime": {
     "end_time": "2019-02-08T14:09:49.415155Z",
     "start_time": "2019-02-08T14:09:41.960349Z"
    },
    "collapsed": false
   },
   "outputs": [
    {
     "name": "stdout",
     "output_type": "stream",
     "text": [
      "BMW Radio button is selected? False\n",
      "Benz Radio button is selected? True\n",
      "BMW Checkbox is selected? False\n",
      "Benz Checkbox is selected? True\n"
     ]
    }
   ],
   "source": [
    "#RadioButtons And Checkboxes Example\n",
    "#using ID\n",
    "bmwRadioBtn = driver.find_element_by_id(\"bmwradio\")\n",
    "bmwRadioBtn.click()\n",
    "\n",
    "time.sleep(2)\n",
    "benzRadioBtn = driver.find_element_by_id(\"benzradio\")\n",
    "benzRadioBtn.click()\n",
    "\n",
    "time.sleep(2)\n",
    "bmwCheckbox = driver.find_element_by_id(\"bmwcheck\")\n",
    "bmwCheckbox.click()\n",
    "\n",
    "time.sleep(2)\n",
    "benzCheckbox = driver.find_element_by_id(\"benzcheck\")\n",
    "benzCheckbox.click()\n",
    "\n",
    "print(\"BMW Radio button is selected? \" + str(bmwRadioBtn.is_selected())) # True if selected, False is not selected\n",
    "print(\"Benz Radio button is selected? \" + str(benzRadioBtn.is_selected()))\n",
    "print(\"BMW Checkbox is selected? \" + str(bmwCheckbox.is_selected()))\n",
    "print(\"Benz Checkbox is selected? \" + str(benzCheckbox.is_selected()))\n"
   ]
  },
  {
   "cell_type": "code",
   "execution_count": 7,
   "metadata": {
    "ExecuteTime": {
     "end_time": "2019-02-08T14:10:03.142205Z",
     "start_time": "2019-02-08T14:09:56.171414Z"
    },
    "collapsed": false
   },
   "outputs": [
    {
     "name": "stdout",
     "output_type": "stream",
     "text": [
      "Select Benz by value\n",
      "Select Honda by index\n",
      "Select BMW by visible text\n",
      "Select Honda by index\n"
     ]
    }
   ],
   "source": [
    "#Select Class Example\n",
    "#Dropdown Select\n",
    "#using id\n",
    "#下拉式列表\n",
    "element = driver.find_element_by_id(\"carselect\")\n",
    "sel = Select(element)\n",
    "\n",
    "sel.select_by_value(\"benz\")\n",
    "print(\"Select Benz by value\")\n",
    "time.sleep(2)\n",
    "\n",
    "sel.select_by_index(\"2\")\n",
    "print(\"Select Honda by index\")\n",
    "time.sleep(2)\n",
    "\n",
    "sel.select_by_visible_text(\"BMW\")\n",
    "print(\"Select BMW by visible text\")\n",
    "time.sleep(2)\n",
    "\n",
    "\n",
    "sel.select_by_index(2)\n",
    "print(\"Select Honda by index\")"
   ]
  },
  {
   "cell_type": "code",
   "execution_count": 8,
   "metadata": {
    "ExecuteTime": {
     "end_time": "2019-02-08T14:10:17.230015Z",
     "start_time": "2019-02-08T14:10:10.727535Z"
    },
    "collapsed": false
   },
   "outputs": [
    {
     "name": "stdout",
     "output_type": "stream",
     "text": [
      "Text is visible? True\n",
      "Text is visible? False\n",
      "Text is visible? True\n"
     ]
    }
   ],
   "source": [
    "#Element Displayed Example\n",
    "#HiddenElements\n",
    "\n",
    "# Find the state of the text box\n",
    "textBoxElement = driver.find_element_by_id(\"displayed-text\")\n",
    "textBoxState = textBoxElement.is_displayed() # True if visible, False if hidden\n",
    "# Exception if not present in the DOM\n",
    "print(\"Text is visible? \" + str(textBoxState))\n",
    "time.sleep(2)\n",
    "\n",
    "# Click the Hide button\n",
    "driver.find_element_by_id(\"hide-textbox\").click()\n",
    "# Find the state of the text box\n",
    "textBoxState = textBoxElement.is_displayed()\n",
    "print(\"Text is visible? \" + str(textBoxState))\n",
    "time.sleep(2)\n",
    "\n",
    "# Added code to scroll up because the element was hiding behind the top navigation menu\n",
    "# You will learn about scrolling in future lecture\n",
    "driver.execute_script(\"window.scrollBy(0, -150);\")\n",
    "# Click the Show button\n",
    "driver.find_element_by_id(\"show-textbox\").click()\n",
    "# Find the state of the text box\n",
    "textBoxState = textBoxElement.is_displayed()\n",
    "print(\"Text is visible? \" + str(textBoxState))\n",
    "time.sleep(2)"
   ]
  },
  {
   "cell_type": "code",
   "execution_count": 9,
   "metadata": {
    "ExecuteTime": {
     "end_time": "2019-02-08T14:10:22.898258Z",
     "start_time": "2019-02-08T14:10:22.509255Z"
    },
    "collapsed": true
   },
   "outputs": [],
   "source": [
    "# Browser Close / Quit\n",
    "# driver.close()\n",
    "driver.quit()"
   ]
  },
  {
   "cell_type": "code",
   "execution_count": null,
   "metadata": {
    "collapsed": true
   },
   "outputs": [],
   "source": []
  }
 ],
 "metadata": {
  "anaconda-cloud": {},
  "kernelspec": {
   "display_name": "Python [conda env:anaconda3]",
   "language": "python",
   "name": "conda-env-anaconda3-py"
  },
  "language_info": {
   "codemirror_mode": {
    "name": "ipython",
    "version": 3
   },
   "file_extension": ".py",
   "mimetype": "text/x-python",
   "name": "python",
   "nbconvert_exporter": "python",
   "pygments_lexer": "ipython3",
   "version": "3.5.2"
  },
  "varInspector": {
   "cols": {
    "lenName": 16,
    "lenType": 16,
    "lenVar": 40
   },
   "kernels_config": {
    "python": {
     "delete_cmd_postfix": "",
     "delete_cmd_prefix": "del ",
     "library": "var_list.py",
     "varRefreshCmd": "print(var_dic_list())"
    },
    "r": {
     "delete_cmd_postfix": ") ",
     "delete_cmd_prefix": "rm(",
     "library": "var_list.r",
     "varRefreshCmd": "cat(var_dic_list()) "
    }
   },
   "types_to_exclude": [
    "module",
    "function",
    "builtin_function_or_method",
    "instance",
    "_Feature"
   ],
   "window_display": false
  }
 },
 "nbformat": 4,
 "nbformat_minor": 1
}
